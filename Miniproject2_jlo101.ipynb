{
 "cells": [
  {
   "cell_type": "code",
   "execution_count": 25,
   "metadata": {},
   "outputs": [],
   "source": [
    "import tweepy\n",
    "import json\n",
    "import yaml\n",
    "import pandas as pd\n",
    "import pymongo\n",
    "import nltk\n",
    "import re"
   ]
  },
  {
   "cell_type": "code",
   "execution_count": 2,
   "metadata": {},
   "outputs": [],
   "source": [
    "#Specify how many pages of tweets we are importing (each page is 200 tweets)\n",
    "pages_to_query = 3\n",
    "q1_words = 100\n",
    "q2_words = 20\n",
    "q3_words = 50\n",
    "\n",
    "#login credential\n",
    "config = {\n",
    "    'CONSUMER_KEY': 'EFoNIPpaC8GeL3qBWGxtkmTxJ',\n",
    "    'CONSUMER_SECRET': 'O3xwQBGcP03afTJ4dKJkKmDhylJIMqXGsRQ2Y6fSQskqp3OmyB',\n",
    "    'OAUTH_SECRET': 'XTrufn3hzMduJAmO5Z4rbXTOC8azY7T9OPluFrOjJNo5h',\n",
    "    'OAUTH_TOKEN': '1112509961865699329-ByU2qCjiC85vHPOhwrrlfCXN5zTTGq'\n",
    "}"
   ]
  },
  {
   "cell_type": "code",
   "execution_count": 26,
   "metadata": {},
   "outputs": [],
   "source": [
    "# function that takes a word and returns true if it consists only of non-alphabetic characters\n",
    "def alpha_filter(w):\n",
    "    # pattern to match a word of non-alphabetical characters\n",
    "    pattern = re.compile('^[^a-z]+$')\n",
    "    if (pattern.match(w)):\n",
    "        return True\n",
    "    else:\n",
    "        return False \n",
    "\n",
    "#function that performs NLP analysis on a list of strings\n",
    "def nlp_analysis(listOfStrings, numOfWords):\n",
    "    #tokenization\n",
    "    all_tokens = [tok.lower() for string in listOfStrings for tok in nltk.word_tokenize(string)]\n",
    "    #remove stopwords\n",
    "    nltk_stopwords = nltk.corpus.stopwords.words('english')\n",
    "    all_stopped_tokens = [tok for tok in all_tokens if not tok in nltk_stopwords]\n",
    "    token_list = [tok for tok in all_stopped_tokens if not alpha_filter(tok)]\n",
    "    #Final step, count the frequency of the tokens and interpret the meaning.\n",
    "    msgFD = nltk.FreqDist(token_list)\n",
    "    top_words = msgFD.most_common(numOfWords)\n",
    "    return top_words"
   ]
  },
  {
   "cell_type": "code",
   "execution_count": 3,
   "metadata": {},
   "outputs": [
    {
     "name": "stderr",
     "output_type": "stream",
     "text": [
      "/anaconda3/lib/python3.7/site-packages/ipykernel_launcher.py:3: DeprecationWarning: database_names is deprecated. Use list_database_names instead.\n",
      "  This is separate from the ipykernel package so we can avoid doing imports until\n"
     ]
    }
   ],
   "source": [
    "#creating a database\n",
    "client = pymongo.MongoClient()\n",
    "client.database_names()\n",
    "\n",
    "#create a new db called cyber_tweets\n",
    "db = client.cyber_db\n",
    "\n",
    "#create a new collection(a group of documents) called deltatweets\n",
    "cyber_timeline = db.cyber_tweets\n",
    "cyber_timeline.drop() # drop all existing data, just to refresh the table as new tweets comes in in the future"
   ]
  },
  {
   "cell_type": "code",
   "execution_count": 4,
   "metadata": {},
   "outputs": [],
   "source": [
    "#login to twitter API\n",
    "auth = tweepy.OAuthHandler(config['CONSUMER_KEY'],config['CONSUMER_SECRET'])\n",
    "auth.set_access_token(config['OAUTH_TOKEN'],config['OAUTH_SECRET'])\n",
    "api = tweepy.API(auth)"
   ]
  },
  {
   "cell_type": "code",
   "execution_count": 5,
   "metadata": {},
   "outputs": [],
   "source": [
    "#insert 4 pages worth of tweets into cyber_tweets collection\n",
    "\n",
    "for i in range(1, pages_to_query+1):\n",
    "    #use API to scrape CyberpunkGame's tweets and all information related to the tweets\n",
    "    timeline = api.user_timeline('CyberpunkGame', count=200, page=i)\n",
    "\n",
    "    #convert the data(tweepy.models.ResultSet) into a python list of tweets\n",
    "    tweet_list = list(timeline)\n",
    "\n",
    "    #use list comprehension to extract json field of the tweets\n",
    "    tweet_json = [tweet._json for tweet in tweet_list]\n",
    "\n",
    "    #store json tweets into cyber_db's cyber_tweets collection\n",
    "    cyber_timeline.insert_many(tweet_json)"
   ]
  },
  {
   "cell_type": "code",
   "execution_count": 6,
   "metadata": {},
   "outputs": [],
   "source": [
    "#query data from cyber_db\n",
    "docs = cyber_timeline.find()\n",
    "#docs[123]"
   ]
  },
  {
   "cell_type": "code",
   "execution_count": 7,
   "metadata": {},
   "outputs": [],
   "source": [
    "#Question 1: Top 100 most favorited tweets NLP analysis.\n",
    "cyber_df1 = pd.DataFrame(list(docs)) #WARNING: this line cannot be run more that once.\n",
    "cyber_df1_sorted = cyber_df1.sort_values(by=['favorite_count'], ascending=False) #sort by descending favorite_count"
   ]
  },
  {
   "cell_type": "code",
   "execution_count": 20,
   "metadata": {},
   "outputs": [
    {
     "data": {
      "text/plain": [
       "[{'_id': ObjectId('5cbd1261c5cd333b69daea73'),\n",
       "  'contributors': None,\n",
       "  'coordinates': None,\n",
       "  'created_at': 'Thu Feb 28 10:39:01 +0000 2019',\n",
       "  'entities': {'hashtags': [], 'symbols': [], 'user_mentions': [], 'urls': []},\n",
       "  'extended_entities': nan,\n",
       "  'favorite_count': 63806,\n",
       "  'favorited': False,\n",
       "  'geo': None,\n",
       "  'id': 1101069253590032385,\n",
       "  'id_str': '1101069253590032385',\n",
       "  'in_reply_to_screen_name': None,\n",
       "  'in_reply_to_status_id': nan,\n",
       "  'in_reply_to_status_id_str': None,\n",
       "  'in_reply_to_user_id': nan,\n",
       "  'in_reply_to_user_id_str': None,\n",
       "  'is_quote_status': False,\n",
       "  'lang': 'en',\n",
       "  'place': None,\n",
       "  'possibly_sensitive': nan,\n",
       "  'quoted_status': nan,\n",
       "  'quoted_status_id': nan,\n",
       "  'quoted_status_id_str': nan,\n",
       "  'retweet_count': 10514,\n",
       "  'retweeted': False,\n",
       "  'retweeted_status': nan,\n",
       "  'source': '<a href=\"http://twitter.com\" rel=\"nofollow\">Twitter Web Client</a>',\n",
       "  'text': 'For those of you asking, yes, we will be at E3 this year.',\n",
       "  'truncated': False,\n",
       "  'user': {'id': 821102114,\n",
       "   'id_str': '821102114',\n",
       "   'name': 'Cyberpunk 2077',\n",
       "   'screen_name': 'CyberpunkGame',\n",
       "   'location': 'Night City, Free state of California',\n",
       "   'description': 'Welcome to the official Twitter account of Cyberpunk 2077 —  the role-playing game of the dark future developed by @CDPROJEKTRED #Cyberpunk2077',\n",
       "   'url': 'http://t.co/H54W0egui9',\n",
       "   'entities': {'url': {'urls': [{'url': 'http://t.co/H54W0egui9',\n",
       "       'expanded_url': 'http://www.cyberpunk.net',\n",
       "       'display_url': 'cyberpunk.net',\n",
       "       'indices': [0, 22]}]},\n",
       "    'description': {'urls': []}},\n",
       "   'protected': False,\n",
       "   'followers_count': 378956,\n",
       "   'friends_count': 73,\n",
       "   'listed_count': 1167,\n",
       "   'created_at': 'Thu Sep 13 08:08:34 +0000 2012',\n",
       "   'favourites_count': 2857,\n",
       "   'utc_offset': None,\n",
       "   'time_zone': None,\n",
       "   'geo_enabled': True,\n",
       "   'verified': True,\n",
       "   'statuses_count': 2171,\n",
       "   'lang': 'en',\n",
       "   'contributors_enabled': False,\n",
       "   'is_translator': False,\n",
       "   'is_translation_enabled': False,\n",
       "   'profile_background_color': '030D08',\n",
       "   'profile_background_image_url': 'http://abs.twimg.com/images/themes/theme1/bg.png',\n",
       "   'profile_background_image_url_https': 'https://abs.twimg.com/images/themes/theme1/bg.png',\n",
       "   'profile_background_tile': False,\n",
       "   'profile_image_url': 'http://pbs.twimg.com/profile_images/1005928356087566337/v8_Ai8MF_normal.jpg',\n",
       "   'profile_image_url_https': 'https://pbs.twimg.com/profile_images/1005928356087566337/v8_Ai8MF_normal.jpg',\n",
       "   'profile_banner_url': 'https://pbs.twimg.com/profile_banners/821102114/1528667021',\n",
       "   'profile_link_color': '0084B4',\n",
       "   'profile_sidebar_border_color': 'FFFFFF',\n",
       "   'profile_sidebar_fill_color': 'DDEEF6',\n",
       "   'profile_text_color': '333333',\n",
       "   'profile_use_background_image': True,\n",
       "   'has_extended_profile': False,\n",
       "   'default_profile': False,\n",
       "   'default_profile_image': False,\n",
       "   'following': False,\n",
       "   'follow_request_sent': False,\n",
       "   'notifications': False,\n",
       "   'translator_type': 'none'}}]"
      ]
     },
     "execution_count": 20,
     "metadata": {},
     "output_type": "execute_result"
    }
   ],
   "source": [
    "cyber_top100fav = cyber_df1_sorted.to_dict('records')[:100] #convert pd dataframe back to a list of dictionaries\n",
    "cyber_top100fav[:1]"
   ]
  },
  {
   "cell_type": "code",
   "execution_count": 22,
   "metadata": {},
   "outputs": [
    {
     "data": {
      "text/plain": [
       "['For those of you asking, yes, we will be at E3 this year.',\n",
       " '&lt;3 https://t.co/OJpwfgJcg4']"
      ]
     },
     "execution_count": 22,
     "metadata": {},
     "output_type": "execute_result"
    }
   ],
   "source": [
    "#Takes the top 100 tweet's 'text' field and store into a list of strings.\n",
    "cyber_top100_texts = [tweet['text'] for tweet in cyber_top100fav if 'text' in tweet.keys()]\n",
    "cyber_top100_texts[:2]"
   ]
  },
  {
   "cell_type": "code",
   "execution_count": 27,
   "metadata": {},
   "outputs": [
    {
     "data": {
      "text/plain": [
       "[('https', 50),\n",
       " (\"n't\", 8),\n",
       " ('cyberpunk2077', 6),\n",
       " ('cdprojektred', 6),\n",
       " ('say', 6),\n",
       " ('que', 6),\n",
       " ('porsche', 5),\n",
       " ('alexwolfcosplay', 5),\n",
       " ('year', 4),\n",
       " ('good', 4),\n",
       " ('djhyper', 4),\n",
       " ('la', 4),\n",
       " ('gronkh', 4),\n",
       " (\"'s\", 4),\n",
       " ('yes', 3),\n",
       " ('lt', 3),\n",
       " ('happy', 3),\n",
       " ('anaeart', 3),\n",
       " ('course', 3),\n",
       " ('game', 3),\n",
       " ('gt', 3),\n",
       " ('v', 3),\n",
       " ('cyberpunk', 3),\n",
       " ('ready', 3),\n",
       " ('us', 3),\n",
       " ('know', 3),\n",
       " ('would', 3),\n",
       " ('es', 3),\n",
       " ('please', 3),\n",
       " ('um', 3)]"
      ]
     },
     "execution_count": 27,
     "metadata": {},
     "output_type": "execute_result"
    }
   ],
   "source": [
    "#Top 100 favorite tweet's top 30 words by frequency\n",
    "nlp_analysis(cyber_top100_texts, q1_words)"
   ]
  }
 ],
 "metadata": {
  "kernelspec": {
   "display_name": "Python 3",
   "language": "python",
   "name": "python3"
  },
  "language_info": {
   "codemirror_mode": {
    "name": "ipython",
    "version": 3
   },
   "file_extension": ".py",
   "mimetype": "text/x-python",
   "name": "python",
   "nbconvert_exporter": "python",
   "pygments_lexer": "ipython3",
   "version": "3.7.1"
  }
 },
 "nbformat": 4,
 "nbformat_minor": 2
}
